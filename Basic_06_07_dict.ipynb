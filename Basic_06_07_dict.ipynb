{
 "cells": [
  {
   "cell_type": "markdown",
   "metadata": {},
   "source": [
    "## Dictionary Topics:\n",
    "\n",
    "1. Creating a dictionary  \n",
    "2. Accessing elements of a dictionary  \n",
    "3. Change and adding elements to a dictionary  \n",
    "4. Removing elements from a dictionary  \n",
    "5. Dictionary Operations  \n",
    "    5.1. Iterating through a dictionary  \n",
    "    5.2. Dictionary membership test  \n",
    "    5.3. Built-in dictionary functions  \n",
    "6. Dictionary comprehension  \n",
    "7. Dictionary Methods  "
   ]
  },
  {
   "cell_type": "markdown",
   "metadata": {},
   "source": [
    "Python dictionary is an unordered collection of items. Each item of a dictionary has a key/value pair.\n",
    "\n",
    "Dictionaries are optimized to retrieve values when the key is known."
   ]
  },
  {
   "cell_type": "markdown",
   "metadata": {},
   "source": [
    "## 1. Creating a dictionary"
   ]
  },
  {
   "cell_type": "markdown",
   "metadata": {},
   "source": [
    "Creating a dictionary - items inside curly braces, separated by commas.  \n",
    "Item = key and a corresponding value - expressed as a pair (key: value).  \n",
    "**values** - any data type and can repeat,   \n",
    "**keys** - immutable type (string, number or tuple with immutable elements) and must be unique."
   ]
  },
  {
   "cell_type": "code",
   "execution_count": 1,
   "metadata": {},
   "outputs": [],
   "source": [
    "d1 = {}\n",
    "d2 = {1: 'a', 2: 'b'}\n",
    "d3 = {'name': 'Cosmin', 1: [2, 3, 4]}\n",
    "d4 = dict({1: 'apple', 2: 'ball'})\n",
    "d5 = dict([(1, 'A'), (2, 'B')])"
   ]
  },
  {
   "cell_type": "markdown",
   "metadata": {},
   "source": [
    "## 2. Accessing elements of a dictionary"
   ]
  },
  {
   "cell_type": "code",
   "execution_count": null,
   "metadata": {},
   "outputs": [],
   "source": []
  }
 ],
 "metadata": {
  "kernelspec": {
   "display_name": "Python 3",
   "language": "python",
   "name": "python3"
  },
  "language_info": {
   "codemirror_mode": {
    "name": "ipython",
    "version": 3
   },
   "file_extension": ".py",
   "mimetype": "text/x-python",
   "name": "python",
   "nbconvert_exporter": "python",
   "pygments_lexer": "ipython3",
   "version": "3.8.3"
  }
 },
 "nbformat": 4,
 "nbformat_minor": 4
}
