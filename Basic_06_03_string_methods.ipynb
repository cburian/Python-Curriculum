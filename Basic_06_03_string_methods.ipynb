{
 "cells": [
  {
   "cell_type": "markdown",
   "metadata": {},
   "source": [
    "## String Methods:\n",
    "\n",
    "[__capitalize()__](#capitalize) --- _similar_ --- [__lower()__](#lower) --- _similar_ --- [__upper()__](#upper)  --- _similar_ ---  [__swapcase()__](#swapcase)  \n",
    "[casefold()](#casefold)  \n",
    "[__center()__](#center)  \n",
    "[__count()__](#count)  \n",
    "[encode()](#encode)  \n",
    "[__endswith()__](#endswith) ---similar--- [__startswith()__](#startswith)  \n",
    "[expandtabs()](#expandtabs)  \n",
    "[__find()__](#find) ---similar--- [**rfind()**](#rfind) ---similar--- [**index()**](#index)  \n",
    "1. [format()](#format)\n",
    "10. [format_map()](#format_map)\n",
    "12. [isalnum()](#isalnum)\n",
    "13. [isalpha()](#isalpha)\n",
    "14. [isdecimal()](#isdecimal)\n",
    "15. [isdigit()](#isdigit)\n",
    "16. [isidentifier()](#isidentifier)\n",
    "17. [islower()](#islower)\n",
    "18. [isnumeric()](#isnumeric)\n",
    "19. [isprintable()](#isprintable)\n",
    "20. [isspace()](#isspace)\n",
    "21. [istitle()](#istitle)\n",
    "22. [isupper()](#isupper)\n",
    "23. [join()](#join)\n",
    "24. [ljust()](#ljust)\n",
    "26. [lstrip()](#lstrip)\n",
    "27. [maketrans()](#maketrans)\n",
    "28. [partition()](#partition)\n",
    "29. [replace()](#replace)\n",
    "31. [rindex()](#rindex)\n",
    "32. [rjust()](#rjust)\n",
    "33. [rpartition()](#rpartition)\n",
    "34. [rsplit()](#rsplit)\n",
    "35. [rstrip()](#rstrip)\n",
    "36. [split()](#split)\n",
    "37. [splitlines()](#splitlines)\n",
    "39. [strip()](#strip)\n",
    "41. [title()](#title)\n",
    "42. [translate()](#translate)\n",
    "\n",
    "44. [zfill()](#zfill)"
   ]
  },
  {
   "cell_type": "markdown",
   "metadata": {},
   "source": [
    "## <a name=\"capitalize\"></a>1. capitalize()"
   ]
  },
  {
   "cell_type": "markdown",
   "metadata": {},
   "source": [
    "__Definition__: converts first character of a string to uppercase letter and lowercases all other characters.   \n",
    "\n",
    "__Syntax__:  \n",
    "    \n",
    "    string.capitalize()  \n",
    "    \n",
    "__Parameters__:  \n",
    "    - doesn't take any parameter  \n",
    "__Returns__:  \n",
    "    - returns a string with the first letter capitalized and all other characters lowercased  \n",
    "    - It doesn't modify the original string  \n",
    "\n",
    "__Similar:__ [lower()](#lower) / [upper()](#upper) / [swapcase()](#swapcase)  "
   ]
  },
  {
   "cell_type": "code",
   "execution_count": 24,
   "metadata": {},
   "outputs": [
    {
     "name": "stdout",
     "output_type": "stream",
     "text": [
      "Old string:  python is NIce\n",
      "New string:  Python is nice\n"
     ]
    }
   ],
   "source": [
    "a_str = \"python is NIce\"\n",
    "new_str = a_str.capitalize()\n",
    "\n",
    "print('Old string: ', a_str)\n",
    "print('New string: ', new_str)"
   ]
  },
  {
   "cell_type": "code",
   "execution_count": 3,
   "metadata": {},
   "outputs": [
    {
     "name": "stdout",
     "output_type": "stream",
     "text": [
      "Old string:   python is NIce\n",
      "New string:   python is nice\n"
     ]
    }
   ],
   "source": [
    "a_str = \" python is NIce\"\n",
    "new_str = a_str.capitalize()\n",
    "\n",
    "print('Old string: ', a_str)\n",
    "print('New string: ', new_str)"
   ]
  },
  {
   "cell_type": "code",
   "execution_count": 4,
   "metadata": {},
   "outputs": [
    {
     "name": "stdout",
     "output_type": "stream",
     "text": [
      "Old string:  +python is NIce\n",
      "New string:  +python is nice\n"
     ]
    }
   ],
   "source": [
    "a_str = \"+python is NIce\"\n",
    "new_str = a_str.capitalize()\n",
    "\n",
    "print('Old string: ', a_str)\n",
    "print('New string: ', new_str)"
   ]
  },
  {
   "cell_type": "code",
   "execution_count": 5,
   "metadata": {},
   "outputs": [
    {
     "name": "stdout",
     "output_type": "stream",
     "text": [
      "Old string:  1pYthon is NIce\n",
      "New string:  1python is nice\n"
     ]
    }
   ],
   "source": [
    "a_str = \"1pYthon is NIce\"\n",
    "new_str = a_str.capitalize()\n",
    "\n",
    "print('Old string: ', a_str)\n",
    "print('New string: ', new_str)"
   ]
  },
  {
   "cell_type": "markdown",
   "metadata": {},
   "source": [
    "## <a name=\"casefold\"></a>2. casefold()"
   ]
  },
  {
   "cell_type": "markdown",
   "metadata": {},
   "source": [
    "__Definition__: an aggressive lower() method which converts strings to case folded strings for caseless matching.   \n",
    "\n",
    "- removes all case distinctions present in a string.  \n",
    "- used for caseless matching, i.e. ignores cases when comparing.  \n",
    "\n",
    "__For example__:  \n",
    "the German lowercase letter ß is equivalent to ss.  \n",
    "ß is already lowercase.  \n",
    "lower() does nothing to it.  \n",
    "casefold() converts it to ss.  \n",
    "\n",
    "__Syntax__:  \n",
    "    \n",
    "    string.casefold()  \n",
    "    \n",
    "__Parameters__:  \n",
    "    - doesn't take any parameter  \n",
    "__Returns__:  \n",
    "    - the case folded string  "
   ]
  },
  {
   "cell_type": "code",
   "execution_count": 6,
   "metadata": {},
   "outputs": [
    {
     "name": "stdout",
     "output_type": "stream",
     "text": [
      "Lowercase string: python is awesome\n"
     ]
    }
   ],
   "source": [
    "string = \"PYTHON IS AWESOME\"\n",
    "\n",
    "# print lowercase string\n",
    "print(\"Lowercase string:\", string.casefold())"
   ]
  },
  {
   "cell_type": "code",
   "execution_count": 7,
   "metadata": {},
   "outputs": [
    {
     "name": "stdout",
     "output_type": "stream",
     "text": [
      "The strings are equal.\n"
     ]
    }
   ],
   "source": [
    "firstString = \"der Fluß\"\n",
    "secondString = \"der Fluss\"\n",
    "\n",
    "# ß is equivalent to ss\n",
    "if firstString.casefold() == secondString.casefold():\n",
    "    print('The strings are equal.')\n",
    "else:\n",
    "    print('The strings are not equal.')"
   ]
  },
  {
   "cell_type": "markdown",
   "metadata": {},
   "source": [
    "## <a name=\"center\"></a>3. center()"
   ]
  },
  {
   "cell_type": "markdown",
   "metadata": {},
   "source": [
    "__Definition__: returns a string which is padded with the specified character.  \n",
    "\n",
    "__Syntax__:  \n",
    "    \n",
    "    string.center(width[, fillchar])  \n",
    "    \n",
    "__Parameters__:  \n",
    "    - width: length of the string with padded characters  \n",
    "    - fillchar (optional): padding character\n",
    "               ! if not provided - space as default\n",
    "__Returns__:  \n",
    "    - returns a string padded with specified fillchar.  \n",
    "    - It doesn't modify the original string.  "
   ]
  },
  {
   "cell_type": "code",
   "execution_count": 2,
   "metadata": {},
   "outputs": [
    {
     "name": "stdout",
     "output_type": "stream",
     "text": [
      "Centered String:     Python is awesome    \n"
     ]
    }
   ],
   "source": [
    "string = \"Python is awesome\"\n",
    "new_string = string.center(24)\n",
    "print(\"Centered String: \", new_string)"
   ]
  },
  {
   "cell_type": "code",
   "execution_count": 3,
   "metadata": {},
   "outputs": [
    {
     "name": "stdout",
     "output_type": "stream",
     "text": [
      "Centered String:  ***Python is awesome****\n"
     ]
    }
   ],
   "source": [
    "string = \"Python is awesome\"\n",
    "new_string = string.center(24, '*')\n",
    "print(\"Centered String: \", new_string)"
   ]
  },
  {
   "cell_type": "markdown",
   "metadata": {},
   "source": [
    "## <a name=\"count\"></a>4. count()"
   ]
  },
  {
   "cell_type": "markdown",
   "metadata": {},
   "source": [
    "__Definition__: returns the number of occurrences of a substring in the given string.  \n",
    "\n",
    "__Syntax__:  \n",
    "    \n",
    "    string.count(substring, start=..., end=...)  \n",
    "    \n",
    "__Parameters__:  \n",
    "    - substring: string whose count is to be found  \n",
    "    - start (optional): starting index within the string where search starts  \n",
    "    - end (optional): ending index within the string where search starts  \n",
    "__Returns__:  \n",
    "    - the number of occurrences of the substring in the given string  "
   ]
  },
  {
   "cell_type": "code",
   "execution_count": 4,
   "metadata": {},
   "outputs": [
    {
     "name": "stdout",
     "output_type": "stream",
     "text": [
      "The count is: 2\n"
     ]
    }
   ],
   "source": [
    "string = \"Python is awesome, isn't it?\"\n",
    "substring = \"is\"\n",
    "count = string.count(substring)\n",
    "# print count\n",
    "print(\"The count is:\", count)"
   ]
  },
  {
   "cell_type": "code",
   "execution_count": 5,
   "metadata": {},
   "outputs": [
    {
     "name": "stdout",
     "output_type": "stream",
     "text": [
      "The count is: 1\n"
     ]
    }
   ],
   "source": [
    "string = \"Python is awesome, isn't it?\"\n",
    "substring = \"i\"\n",
    "\n",
    "# count after first 'i' and before the last 'i'\n",
    "count = string.count(substring, 8, 25)\n",
    "\n",
    "# print count\n",
    "print(\"The count is:\", count)"
   ]
  },
  {
   "cell_type": "markdown",
   "metadata": {},
   "source": [
    "## <a name=\"encode\"></a>5. encode()"
   ]
  },
  {
   "cell_type": "markdown",
   "metadata": {},
   "source": [
    "__Definition__: returns encoded version of the given string.  \n",
    "! Strings in Python - stored in as Unicode - each character = represented by a code point  \n",
    "! the sequence of code points - converted in bytes = __Encoding__  \n",
    "! popular encodings: utf-8, ascii  \n",
    "! encode() - converts unicode strings into any encodings supported\n",
    "\n",
    "__Syntax__:  \n",
    "    \n",
    "    string.encode(encoding='UTF-8', errors='strinct')  \n",
    "    \n",
    "__Parameters__:  \n",
    "    - does not require any\n",
    "    - if failure => UnicodeDecodeError  \n",
    "    - encoding (optional): encoding type a string has to be encoded to  \n",
    "    - errors (optional): response when encoding fails.  \n",
    "        - strinct: default response => UnicodeDecodeError  \n",
    "        - ignore: ignores the unencodable unicode from the result  \n",
    "        - replace: replaces the unencodable unicode to ?  \n",
    "        - xmlcharrefreplace: inserts XML character reference instead of unencodable unicode  \n",
    "        - backslashreplace: inserts a \\uNNNN escape sequence instead of unencodable unicode  \n",
    "        - namereplace: inserts a \\N{...} escape sequence instead of unencodable unicode  \n",
    "__Returns__:  \n",
    "    - utf-8 encoded version of the string  "
   ]
  },
  {
   "cell_type": "code",
   "execution_count": 6,
   "metadata": {},
   "outputs": [
    {
     "name": "stdout",
     "output_type": "stream",
     "text": [
      "The string is: pythön!\n",
      "The encoded version is: b'pyth\\xc3\\xb6n!'\n"
     ]
    }
   ],
   "source": [
    "# unicode string\n",
    "string = 'pythön!'\n",
    "\n",
    "# print string\n",
    "print('The string is:', string)\n",
    "\n",
    "# default encoding to utf-8\n",
    "string_utf = string.encode()\n",
    "\n",
    "# print result\n",
    "print('The encoded version is:', string_utf)"
   ]
  },
  {
   "cell_type": "code",
   "execution_count": 7,
   "metadata": {},
   "outputs": [
    {
     "name": "stdout",
     "output_type": "stream",
     "text": [
      "The string is: pythön!\n",
      "The encoded version (with ignore) is: b'pythn!'\n",
      "The encoded version (with replace) is: b'pyth?n!'\n"
     ]
    }
   ],
   "source": [
    "# unicode string\n",
    "string = 'pythön!'\n",
    "\n",
    "# print string\n",
    "print('The string is:', string)\n",
    "\n",
    "# ignore error\n",
    "print('The encoded version (with ignore) is:', string.encode(\"ascii\", \"ignore\"))\n",
    "\n",
    "# replace error\n",
    "print('The encoded version (with replace) is:', string.encode(\"ascii\", \"replace\"))"
   ]
  },
  {
   "cell_type": "markdown",
   "metadata": {},
   "source": [
    "## <a name=\"endswith\"></a>6. endswith()"
   ]
  },
  {
   "cell_type": "markdown",
   "metadata": {},
   "source": [
    "__Definition__: returns True if a string ends with the specified suffix. If not, it returns False.  \n",
    "\n",
    "__Syntax__:  \n",
    "    \n",
    "    string.endswith(suffix[start,[ end]])  \n",
    "    \n",
    "__Parameters__:  \n",
    "    - suffix: String or tuple of suffixes to be checked  \n",
    "    - start (optional): Beginning position where suffix is to be checked within the string  \n",
    "    - end (optional): nding position where suffix is to be checked within the string  \n",
    "__Returns__:  \n",
    "    - boolean:  \n",
    "        - True - if string ends with suffix  \n",
    "        - False - if string doesn't ends with suffix  \n",
    "\n",
    "__Similar:__ [startswith()](#startswith)"
   ]
  },
  {
   "cell_type": "code",
   "execution_count": 9,
   "metadata": {},
   "outputs": [
    {
     "name": "stdout",
     "output_type": "stream",
     "text": [
      "False\n",
      "True\n",
      "True\n"
     ]
    }
   ],
   "source": [
    "text = \"Python is easy to learn.\"\n",
    "\n",
    "result = text.endswith('to learn')\n",
    "# returns False\n",
    "print(result)\n",
    "\n",
    "result = text.endswith('to learn.')\n",
    "# returns True\n",
    "print(result)\n",
    "\n",
    "result = text.endswith('Python is easy to learn.')\n",
    "# returns True\n",
    "print(result)"
   ]
  },
  {
   "cell_type": "code",
   "execution_count": 11,
   "metadata": {},
   "outputs": [
    {
     "name": "stdout",
     "output_type": "stream",
     "text": [
      "True\n",
      "False\n",
      "True\n"
     ]
    }
   ],
   "source": [
    "text = \"Python programming is easy to learn.\"\n",
    "\n",
    "# start parameter: 7\n",
    "# \"programming is easy to learn.\" string is searched\n",
    "result = text.endswith('learn.', 7)\n",
    "print(result)\n",
    "\n",
    "# Both start and end is provided\n",
    "# start: 7, end: 26\n",
    "# \"programming is easy\" string is searched\n",
    "\n",
    "result = text.endswith('is', 7, 26)\n",
    "# Returns False\n",
    "print(result)\n",
    "\n",
    "result = text.endswith('easy', 7, 26)\n",
    "# returns True\n",
    "print(result)"
   ]
  },
  {
   "cell_type": "markdown",
   "metadata": {},
   "source": [
    "### Passing Tuple to endswith()\n",
    "\n",
    "It's possible to pass a tuple suffixes to the endswith() method in Python.  \n",
    "If the string ends with any item of the tuple, endswith() returns True.  \n",
    "If not, it returns False"
   ]
  },
  {
   "cell_type": "code",
   "execution_count": 12,
   "metadata": {},
   "outputs": [
    {
     "name": "stdout",
     "output_type": "stream",
     "text": [
      "False\n",
      "True\n",
      "True\n"
     ]
    }
   ],
   "source": [
    "text = \"programming is easy\"\n",
    "result = text.endswith(('programming', 'python'))\n",
    "\n",
    "# prints False\n",
    "print(result)\n",
    "\n",
    "result = text.endswith(('python', 'easy', 'java'))\n",
    "\n",
    "#prints True\n",
    "print(result)\n",
    "\n",
    "# With start and end parameter\n",
    "# 'programming is' string is checked\n",
    "result = text.endswith(('is', 'an'), 0, 14)\n",
    "\n",
    "# prints True\n",
    "print(result)"
   ]
  },
  {
   "cell_type": "markdown",
   "metadata": {},
   "source": [
    "## <a name=\"expandtabs\"></a>7. expandtabs()"
   ]
  },
  {
   "cell_type": "markdown",
   "metadata": {},
   "source": [
    "__Definition__: returns a copy of string with all tab characters '\\t' replaced with whitespace characters until the next multiple of tabsize parameter.  \n",
    "\n",
    "__Syntax__:  \n",
    "    \n",
    "    string.expandtabs(tabsize)  \n",
    "    \n",
    "__Parameters__:  \n",
    "    - tabsize: integer; default size = 8  \n",
    "__Returns__:  \n",
    "    - string where all '\\t' characters are replaced with whitespace characters until the next multiple of tabsize parameter  "
   ]
  },
  {
   "cell_type": "code",
   "execution_count": 32,
   "metadata": {},
   "outputs": [
    {
     "name": "stdout",
     "output_type": "stream",
     "text": [
      "original str:  xyz\t12345\tabc\n",
      "\n",
      "xyz     12345   abc\n"
     ]
    }
   ],
   "source": [
    "str = 'xyz\\t12345\\tabc'\n",
    "print('original str: ',  str)\n",
    "print()\n",
    "\n",
    "# no argument is passed; default tabsize is 8\n",
    "result = str.expandtabs()\n",
    "print(result)"
   ]
  },
  {
   "cell_type": "markdown",
   "metadata": {},
   "source": [
    "__How expandtabs() works in Python?__\n",
    "The expandtabs() method keeps track of the current cursor position.  \n",
    "\n",
    "The position of first '\\t' character in the above program is 3. And, the tabsize is 8 (if argument is not passed).  \n",
    "\n",
    "The expandtabs() character replaces the '\\t' with whitespace until the next tab stop. The position of '\\t' is 3 and the first tab stop is 8. Hence, the number of spaces after 'xyz' is 5.  \n",
    "\n",
    "The next tab stops are the multiples of tabsize. The next tab stops are 16, 24, 32 and so on.  \n",
    "\n",
    "Now, the position of second '\\t' character is 13. And, the next tab stop is 16. Hence, there are 3 spaces after '12345'."
   ]
  },
  {
   "cell_type": "code",
   "execution_count": 33,
   "metadata": {},
   "outputs": [
    {
     "name": "stdout",
     "output_type": "stream",
     "text": [
      "Original String: xyz\t12345\tabc\n",
      "Tabsize 2: xyz 12345 abc\n",
      "Tabsize 3: xyz   12345 abc\n",
      "Tabsize 4: xyz 12345   abc\n",
      "Tabsize 5: xyz  12345     abc\n",
      "Tabsize 6: xyz   12345 abc\n"
     ]
    }
   ],
   "source": [
    "str = \"xyz\\t12345\\tabc\"\n",
    "print('Original String:', str)\n",
    "\n",
    "# tabsize is set to 2\n",
    "print('Tabsize 2:', str.expandtabs(2))\n",
    "\n",
    "# tabsize is set to 3\n",
    "print('Tabsize 3:', str.expandtabs(3))\n",
    "\n",
    "# tabsize is set to 4\n",
    "print('Tabsize 4:', str.expandtabs(4))\n",
    "\n",
    "# tabsize is set to 5\n",
    "print('Tabsize 5:', str.expandtabs(5))\n",
    "\n",
    "# tabsize is set to 6\n",
    "print('Tabsize 6:', str.expandtabs(6))"
   ]
  },
  {
   "cell_type": "markdown",
   "metadata": {},
   "source": [
    "## <a name=\"find\"></a>8. find()"
   ]
  },
  {
   "cell_type": "markdown",
   "metadata": {},
   "source": [
    "__Definition__: returns the index of first occurrence of the substring (if found). If not found, it returns -1.  \n",
    "\n",
    "__Syntax__:  \n",
    "    \n",
    "    string.find(sub[start,[ end]])  \n",
    "    \n",
    "__Parameters__:  \n",
    "    - sub: substring to be searched in the original string  \n",
    "    - start and end (optional): The range str[start:end] within which substring is searched.  \n",
    "__Returns__:  \n",
    "    - integer:  \n",
    "        - substring exists inside the string => it returns the index of the first occurence of the substring.  \n",
    "        - substring doesn't exist inside the string, it returns -1.  \n",
    "\n",
    "\n",
    "__Similar:__ [index()](#index) / [rfind()](#rfind)"
   ]
  },
  {
   "cell_type": "code",
   "execution_count": 35,
   "metadata": {},
   "outputs": [
    {
     "name": "stdout",
     "output_type": "stream",
     "text": [
      "Substring 'let it': 11\n",
      "Substring 'small ': -1\n",
      "Contains substring 'be,'\n"
     ]
    }
   ],
   "source": [
    "quote = 'Let it be, let it be, let it be'\n",
    "\n",
    "# first occurance of 'let it'(case sensitive)\n",
    "result = quote.find('let it')\n",
    "print(\"Substring 'let it':\", result)\n",
    "\n",
    "# find returns -1 if substring not found\n",
    "result = quote.find('small')\n",
    "print(\"Substring 'small ':\", result)\n",
    "\n",
    "# How to use find()\n",
    "if (quote.find('be,') != -1):\n",
    "    print(\"Contains substring 'be,'\")\n",
    "else:\n",
    "    print(\"Doesn't contain substring\")"
   ]
  },
  {
   "cell_type": "code",
   "execution_count": 36,
   "metadata": {},
   "outputs": [
    {
     "name": "stdout",
     "output_type": "stream",
     "text": [
      "-1\n",
      "3\n",
      "-1\n",
      "9\n"
     ]
    }
   ],
   "source": [
    "quote = 'Do small things with great love'\n",
    "\n",
    "# Substring is searched in 'hings with great love'\n",
    "print(quote.find('small things', 10))\n",
    "\n",
    "# Substring is searched in ' small things with great love' \n",
    "print(quote.find('small things', 2))\n",
    "\n",
    "# Substring is searched in 'hings with great lov'\n",
    "print(quote.find('o small ', 10, -1))\n",
    "\n",
    "# Substring is searched in 'll things with'\n",
    "print(quote.find('things ', 6, 20))"
   ]
  },
  {
   "cell_type": "markdown",
   "metadata": {},
   "source": [
    "## <a name=\"format\"></a>9. format()"
   ]
  },
  {
   "cell_type": "markdown",
   "metadata": {},
   "source": [
    "## <a name=\"format_map\"></a>10. format_map()"
   ]
  },
  {
   "cell_type": "markdown",
   "metadata": {},
   "source": [
    "## <a name=\"index\"></a>11. index()"
   ]
  },
  {
   "cell_type": "markdown",
   "metadata": {},
   "source": [
    "__Definition__: returns the index of a substring inside the string. If substring is not found, it raises an exception.  \n",
    "\n",
    "__Syntax__:  \n",
    "    \n",
    "    string.index(sub[start,[ end]])  \n",
    "    \n",
    "__Parameters__:  \n",
    "    - sub: substring to be searched in the original string  \n",
    "    - start and end (optional): The range str[start:end] within which substring is searched.  \n",
    "__Returns__:  \n",
    "    - integer:  \n",
    "        - substring exists inside the string => it returns the lowest index in the string where substring is found.  \n",
    "        - substring doesn't exist inside the string => it raises a **ValueError** exception.  \n",
    "\n",
    "\n",
    "__Similar:__ [find()](#find) / [rfind()](#rfind)"
   ]
  },
  {
   "cell_type": "markdown",
   "metadata": {},
   "source": [
    "## <a name=\"isalnum\"></a>12. isalnum()"
   ]
  },
  {
   "cell_type": "markdown",
   "metadata": {},
   "source": [
    "## <a name=\"isalpha\"></a>13. isalpha()"
   ]
  },
  {
   "cell_type": "markdown",
   "metadata": {},
   "source": [
    "## <a name=\"isdecimal\"></a>14. isdecimal()"
   ]
  },
  {
   "cell_type": "markdown",
   "metadata": {},
   "source": [
    "## <a name=\"isdigit\"></a>15. isdigit()"
   ]
  },
  {
   "cell_type": "markdown",
   "metadata": {},
   "source": [
    "## <a name=\"isidentifier\"></a>16. isidentifier()"
   ]
  },
  {
   "cell_type": "markdown",
   "metadata": {},
   "source": [
    "## <a name=\"islower\"></a>17. islower()"
   ]
  },
  {
   "cell_type": "markdown",
   "metadata": {},
   "source": [
    "## <a name=\"isnumeric\"></a>18. isnumeric()"
   ]
  },
  {
   "cell_type": "markdown",
   "metadata": {},
   "source": [
    "## <a name=\"isprintable\"></a>19. isprintable()"
   ]
  },
  {
   "cell_type": "markdown",
   "metadata": {},
   "source": [
    "## <a name=\"isspace\"></a>20. isspace()"
   ]
  },
  {
   "cell_type": "markdown",
   "metadata": {},
   "source": [
    "## <a name=\"istitle\"></a>21. istitle()"
   ]
  },
  {
   "cell_type": "markdown",
   "metadata": {},
   "source": [
    "## <a name=\"isupper\"></a>22. isupper()"
   ]
  },
  {
   "cell_type": "markdown",
   "metadata": {},
   "source": [
    "## <a name=\"join\"></a>23. join()"
   ]
  },
  {
   "cell_type": "markdown",
   "metadata": {},
   "source": [
    "## <a name=\"ljust\"></a>24. ljust()"
   ]
  },
  {
   "cell_type": "markdown",
   "metadata": {},
   "source": [
    "## <a name=\"lower\"></a>25. lower()"
   ]
  },
  {
   "cell_type": "markdown",
   "metadata": {},
   "source": [
    "__Definition__: converts all uppercase characters in a string into lowercase characters and returns it.   \n",
    "\n",
    "__Syntax__:  \n",
    "    \n",
    "    string.lower()  \n",
    "    \n",
    "__Parameters__:  \n",
    "    - doesn't take any parameter  \n",
    "__Returns__:  \n",
    "    - returns the lowercased string from the given string. It converts all uppercase characters to lowercase  \n",
    "    - If no uppercase characters exist, it returns the original string.  \n",
    "    - It doesn't modify the original string  \n",
    "    \n",
    "__Similar:__ [capitalize()](#capitalize) / [upper()](#upper) / [swapcase()](#swapcase)  "
   ]
  },
  {
   "cell_type": "code",
   "execution_count": 18,
   "metadata": {},
   "outputs": [
    {
     "name": "stdout",
     "output_type": "stream",
     "text": [
      "this should be lowercase!\n",
      "th!s sh0uld b3 l0w3rcas3!\n"
     ]
    }
   ],
   "source": [
    "# example string\n",
    "string = \"THIS SHOULD BE LOWERCASE!\"\n",
    "print(string.lower())\n",
    "\n",
    "# string with numbers\n",
    "# all alphabets whould be lowercase\n",
    "string = \"Th!s Sh0uLd B3 L0w3rCas3!\"\n",
    "print(string.lower())"
   ]
  },
  {
   "cell_type": "code",
   "execution_count": 19,
   "metadata": {},
   "outputs": [
    {
     "name": "stdout",
     "output_type": "stream",
     "text": [
      "The strings are same.\n"
     ]
    }
   ],
   "source": [
    "# first string\n",
    "firstString = \"PYTHON IS AWESOME!\"\n",
    "\n",
    "# second string\n",
    "secondString = \"PyThOn Is AwEsOmE!\"\n",
    "\n",
    "if(firstString.lower() == secondString.lower()):\n",
    "    print(\"The strings are same.\")\n",
    "else:\n",
    "    print(\"The strings are not same.\")"
   ]
  },
  {
   "cell_type": "markdown",
   "metadata": {},
   "source": [
    "## <a name=\"lstrip\"></a>26. lstrip()"
   ]
  },
  {
   "cell_type": "markdown",
   "metadata": {},
   "source": [
    "## <a name=\"maketrans\"></a>27. maketrans()"
   ]
  },
  {
   "cell_type": "markdown",
   "metadata": {},
   "source": [
    "## <a name=\"partition\"></a>28. partition()"
   ]
  },
  {
   "cell_type": "markdown",
   "metadata": {},
   "source": [
    "## <a name=\"replace\"></a>29. replace()"
   ]
  },
  {
   "cell_type": "markdown",
   "metadata": {},
   "source": [
    "## <a name=\"rfind\"></a>30. rfind()"
   ]
  },
  {
   "cell_type": "markdown",
   "metadata": {},
   "source": [
    "__Definition__: returns the highest index of the substring (if found). If not found, it returns -1.  \n",
    "\n",
    "__Syntax__:  \n",
    "    \n",
    "    string.rfind(sub[start,[ end]])  \n",
    "    \n",
    "__Parameters__:  \n",
    "    - sub: substring to be searched in the original string  \n",
    "    - start and end (optional): The range str[start:end] within which substring is searched.  \n",
    "__Returns__:  \n",
    "    - integer:  \n",
    "        - substring exists inside the string => it returns the highest index where substring is found.  \n",
    "        - substring doesn't exist inside the string, it returns -1.  \n",
    "\n",
    "\n",
    "__Similar:__ [find()](#find) / [index()](#index)"
   ]
  },
  {
   "cell_type": "code",
   "execution_count": 38,
   "metadata": {},
   "outputs": [
    {
     "name": "stdout",
     "output_type": "stream",
     "text": [
      "Substring 'let it': 22\n",
      "Substring 'small ': -1\n",
      "Highest index where 'be,' occurs: 18\n"
     ]
    }
   ],
   "source": [
    "quote = 'Let it be, let it be, let it be'\n",
    "\n",
    "result = quote.rfind('let it')\n",
    "print(\"Substring 'let it':\", result)\n",
    "\n",
    "result = quote.rfind('small')\n",
    "print(\"Substring 'small ':\", result)\n",
    "\n",
    "result = quote.rfind('be,')\n",
    "if  (result != -1):\n",
    "  print(\"Highest index where 'be,' occurs:\", result)\n",
    "else:\n",
    "  print(\"Doesn't contain substring\")"
   ]
  },
  {
   "cell_type": "code",
   "execution_count": 39,
   "metadata": {},
   "outputs": [
    {
     "name": "stdout",
     "output_type": "stream",
     "text": [
      "-1\n",
      "25\n",
      "-1\n",
      "18\n"
     ]
    }
   ],
   "source": [
    "quote = 'Do small things with great love'\n",
    "\n",
    "# Substring is searched in 'hings with great love'\n",
    "print(quote.rfind('things', 10))\n",
    "\n",
    "# Substring is searched in ' small things with great love' \n",
    "print(quote.rfind('t', 2))\n",
    "\n",
    "# Substring is searched in 'hings with great lov'\n",
    "print(quote.rfind('o small ', 10, -1))\n",
    "\n",
    "# Substring is searched in 'll things with'\n",
    "print(quote.rfind('th', 6, 20))"
   ]
  },
  {
   "cell_type": "markdown",
   "metadata": {},
   "source": [
    "## <a name=\"rindex\"></a>31. rindex()"
   ]
  },
  {
   "cell_type": "markdown",
   "metadata": {},
   "source": [
    "## <a name=\"rjust\"></a>32. rjust()"
   ]
  },
  {
   "cell_type": "markdown",
   "metadata": {},
   "source": [
    "## <a name=\"rpartition\"></a>33. rpartition()"
   ]
  },
  {
   "cell_type": "markdown",
   "metadata": {},
   "source": [
    "## <a name=\"rsplit\"></a>34. rsplit()"
   ]
  },
  {
   "cell_type": "markdown",
   "metadata": {},
   "source": [
    "## <a name=\"rstrip\"></a>35. rstrip()"
   ]
  },
  {
   "cell_type": "markdown",
   "metadata": {},
   "source": [
    "## <a name=\"split\"></a>36. split()"
   ]
  },
  {
   "cell_type": "markdown",
   "metadata": {},
   "source": [
    "## <a name=\"splitlines\"></a>37. splitlines()"
   ]
  },
  {
   "cell_type": "markdown",
   "metadata": {},
   "source": [
    "## <a name=\"startswith\"></a>38. startswith()"
   ]
  },
  {
   "cell_type": "markdown",
   "metadata": {},
   "source": [
    "__Definition__: returns True if a string starts with the specified suffix. If not, it returns False.  \n",
    "\n",
    "__Syntax__:  \n",
    "    \n",
    "    string.startswith(prefix[start,[ end]])  \n",
    "    \n",
    "__Parameters__:  \n",
    "    - suffix: String or tuple of suffixes to be checked  \n",
    "    - start (optional): Beginning position where prefix is to be checked within the string  \n",
    "    - end (optional): Ending position where prefix is to be checked within the string  \n",
    "__Returns__:  \n",
    "    - boolean:  \n",
    "        - True - if string starts with prefix  \n",
    "        - False - if string doesn't start with prefix  \n",
    "\n",
    "__Similar:__ [endswith()](#endswith)"
   ]
  },
  {
   "cell_type": "code",
   "execution_count": 13,
   "metadata": {},
   "outputs": [
    {
     "name": "stdout",
     "output_type": "stream",
     "text": [
      "False\n",
      "True\n",
      "True\n"
     ]
    }
   ],
   "source": [
    "text = \"Python is easy to learn.\"\n",
    "\n",
    "result = text.startswith('is easy')\n",
    "# returns False\n",
    "print(result)\n",
    "\n",
    "result = text.startswith('Python is')\n",
    "# returns True\n",
    "print(result)\n",
    "\n",
    "result = text.startswith('Python is easy to learn.')\n",
    "# returns True\n",
    "print(result)"
   ]
  },
  {
   "cell_type": "code",
   "execution_count": 14,
   "metadata": {},
   "outputs": [
    {
     "name": "stdout",
     "output_type": "stream",
     "text": [
      "True\n",
      "False\n",
      "True\n"
     ]
    }
   ],
   "source": [
    "text = \"Python programming is easy to learn.\"\n",
    "\n",
    "# start parameter: 7\n",
    "# \"programming is easy to learn.\" string is searched\n",
    "result = text.startswith('programming is', 7)\n",
    "print(result)\n",
    "\n",
    "# Both start and end is provided\n",
    "# start: 7, end: 26\n",
    "# \"programming is easy\" string is searched\n",
    "\n",
    "result = text.startswith('programming is', 7, 18)\n",
    "# Returns False\n",
    "print(result)\n",
    "\n",
    "result = text.startswith('program', 7, 18)\n",
    "# returns True\n",
    "print(result)"
   ]
  },
  {
   "cell_type": "markdown",
   "metadata": {},
   "source": [
    "### Passing Tuple to startswith()\n",
    "\n",
    "It's possible to pass a tuple prefixes to the startswith() method in Python.  \n",
    "If the string ends with any item of the tuple, startswith() returns True.  \n",
    "If not, it returns False"
   ]
  },
  {
   "cell_type": "code",
   "execution_count": 16,
   "metadata": {},
   "outputs": [
    {
     "name": "stdout",
     "output_type": "stream",
     "text": [
      "True\n",
      "False\n",
      "False\n"
     ]
    }
   ],
   "source": [
    "startswithtext = \"programming is easy\"\n",
    "result = startswithtext.startswith(('programming', 'python'))\n",
    "\n",
    "print(result)\n",
    "\n",
    "result = startswithtext.startswith(('is', 'easy', 'java'))\n",
    "\n",
    "print(result)\n",
    "\n",
    "# With start and end parameter\n",
    "# 'programming is' string is checked\n",
    "result = startswithtext.startswith(('programming', 'easy'), 12, 19)\n",
    "\n",
    "print(result)"
   ]
  },
  {
   "cell_type": "code",
   "execution_count": null,
   "metadata": {},
   "outputs": [],
   "source": []
  },
  {
   "cell_type": "markdown",
   "metadata": {},
   "source": [
    "## <a name=\"strip\"></a>39. strip()"
   ]
  },
  {
   "cell_type": "markdown",
   "metadata": {},
   "source": [
    "## <a name=\"swapcase\"></a>40. swapcase()"
   ]
  },
  {
   "cell_type": "markdown",
   "metadata": {},
   "source": [
    "__Definition__: converts all uppercase characters to lowercase and all lowercase characters to uppercase characters of the given string, and returns it.   \n",
    "\n",
    "__Syntax__:  \n",
    "    \n",
    "    string.swapcase()  \n",
    "    \n",
    "__Parameters__:  \n",
    "    - doesn't take any parameter  \n",
    "__Returns__:  \n",
    "    - the string where all uppercase characters are converted to lowercase, and vice-versa  \n",
    "    - It doesn't modify the original string  \n",
    "\n",
    "__Similar:__ [capitalize()](#lower) / [lower()](#lower) / [upper()](#upper)  "
   ]
  },
  {
   "cell_type": "code",
   "execution_count": 22,
   "metadata": {},
   "outputs": [
    {
     "name": "stdout",
     "output_type": "stream",
     "text": [
      "this should all be lowercase.\n",
      "THIS SHOULD ALL BE UPPERCASE.\n",
      "tHiS sHoUlD bE mIxEd CaSeD.\n"
     ]
    }
   ],
   "source": [
    "# example string\n",
    "string = \"THIS SHOULD ALL BE LOWERCASE.\"\n",
    "print(string.swapcase())\n",
    "\n",
    "string = \"this should all be uppercase.\"\n",
    "print(string.swapcase())\n",
    "\n",
    "string = \"ThIs ShOuLd Be MiXeD cAsEd.\"\n",
    "print(string.swapcase())"
   ]
  },
  {
   "cell_type": "markdown",
   "metadata": {},
   "source": [
    "## <a name=\"title\"></a>41. title()"
   ]
  },
  {
   "cell_type": "markdown",
   "metadata": {},
   "source": [
    "## <a name=\"translate\"></a>42. translate()"
   ]
  },
  {
   "cell_type": "markdown",
   "metadata": {},
   "source": [
    "## <a name=\"upper\"></a>43. upper()"
   ]
  },
  {
   "cell_type": "markdown",
   "metadata": {},
   "source": [
    "__Definition__: converts all owercase characters in a string into uppercase characters and returns it.   \n",
    "\n",
    "__Syntax__:  \n",
    "    \n",
    "    string.upper()  \n",
    "    \n",
    "__Parameters__:  \n",
    "    - doesn't take any parameter  \n",
    "__Returns__:  \n",
    "    - returns the uppercased string from the given string. It converts all lowercase characters to uppercase.  \n",
    "    - If no lowercase characters exist, it returns the original string.  \n",
    "    - It doesn't modify the original string  \n",
    "    \n",
    "__Similar:__ [capitalize()](#lower) / [lower()](#lower) / [swapcase()](#swapcase)  "
   ]
  },
  {
   "cell_type": "code",
   "execution_count": 20,
   "metadata": {},
   "outputs": [
    {
     "name": "stdout",
     "output_type": "stream",
     "text": [
      "THIS SHOULD BE UPPERCASE!\n",
      "TH!S SH0ULD B3 UPP3RCAS3!\n"
     ]
    }
   ],
   "source": [
    "# example string\n",
    "string = \"this should be uppercase!\"\n",
    "print(string.upper())\n",
    "\n",
    "# string with numbers\n",
    "# all alphabets whould be lowercase\n",
    "string = \"Th!s Sh0uLd B3 uPp3rCas3!\"\n",
    "print(string.upper())"
   ]
  },
  {
   "cell_type": "code",
   "execution_count": 21,
   "metadata": {},
   "outputs": [
    {
     "name": "stdout",
     "output_type": "stream",
     "text": [
      "The strings are same.\n"
     ]
    }
   ],
   "source": [
    "# first string\n",
    "firstString = \"python is awesome!\"\n",
    "\n",
    "# second string\n",
    "secondString = \"PyThOn Is AwEsOmE!\"\n",
    "\n",
    "if(firstString.upper() == secondString.upper()):\n",
    "    print(\"The strings are same.\")\n",
    "else:\n",
    "    print(\"The strings are not same.\")"
   ]
  },
  {
   "cell_type": "markdown",
   "metadata": {},
   "source": [
    "## <a name=\"zfill\"></a>44. zfill() "
   ]
  }
 ],
 "metadata": {
  "kernelspec": {
   "display_name": "Python 3",
   "language": "python",
   "name": "python3"
  },
  "language_info": {
   "codemirror_mode": {
    "name": "ipython",
    "version": 3
   },
   "file_extension": ".py",
   "mimetype": "text/x-python",
   "name": "python",
   "nbconvert_exporter": "python",
   "pygments_lexer": "ipython3",
   "version": "3.8.3"
  }
 },
 "nbformat": 4,
 "nbformat_minor": 4
}