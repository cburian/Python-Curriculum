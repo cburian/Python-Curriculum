{
 "cells": [
  {
   "cell_type": "markdown",
   "metadata": {},
   "source": [
    "## String Methods:\n",
    "\n",
    "1. capitalize()\n",
    "2. casefold()\n",
    "3. center()\n",
    "4. count()\n",
    "5. encode()\n",
    "6. endswith()\n",
    "7. expandtabs()\n",
    "8. find()\n",
    "9. format()\n",
    "10. format_map()\n",
    "11. index()\n",
    "12. isalnum()\n",
    "13. isalpha()\n",
    "14. isdecimal()\n",
    "15. isdigit()\n",
    "16. isidentifier()\n",
    "17. islower()\n",
    "18. isnumeric()\n",
    "19. isprintable()\n",
    "20. isspace()\n",
    "21. istitle()\n",
    "22. isupper()\n",
    "23. join()\n",
    "24. ljust()\n",
    "25. lower()\n",
    "26. lstrip()\n",
    "27. maketrans()\n",
    "28. partition()\n",
    "29. replace()\n",
    "30. rfind()\n",
    "31. rindex()\n",
    "32. rjust()\n",
    "33. rpartition()\n",
    "34. rsplit()\n",
    "35. rstrip()\n",
    "36. split()\n",
    "37. splitlines()\n",
    "38. startswith()\n",
    "39. strip()\n",
    "40. swapcase()\n",
    "41. title()\n",
    "42. translate()\n",
    "43. upper()\n",
    "44. zfill()"
   ]
  },
  {
   "cell_type": "code",
   "execution_count": null,
   "metadata": {},
   "outputs": [],
   "source": []
  }
 ],
 "metadata": {
  "kernelspec": {
   "display_name": "Python 3",
   "language": "python",
   "name": "python3"
  },
  "language_info": {
   "codemirror_mode": {
    "name": "ipython",
    "version": 3
   },
   "file_extension": ".py",
   "mimetype": "text/x-python",
   "name": "python",
   "nbconvert_exporter": "python",
   "pygments_lexer": "ipython3",
   "version": "3.8.3"
  }
 },
 "nbformat": 4,
 "nbformat_minor": 4
}
