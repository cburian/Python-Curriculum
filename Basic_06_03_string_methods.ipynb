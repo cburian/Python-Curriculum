{
 "cells": [
  {
   "cell_type": "markdown",
   "metadata": {},
   "source": [
    "## String Methods:\n",
    "\n",
    "1. capitalize()\n",
    "2. casefold()\n",
    "3. center()\n",
    "4. count()\n",
    "5. encode()\n",
    "6. endswith()\n",
    "7. expandtabs()\n",
    "8. find()\n",
    "9. format()\n",
    "10. format_map()\n",
    "11. index()\n",
    "12. isalnum()\n",
    "13. isalpha()\n",
    "14. isdecimal()\n",
    "15. isdigit()\n",
    "16. isidentifier()\n",
    "17. islower()\n",
    "18. isnumeric()\n",
    "19. isprintable()\n",
    "20. isspace()\n",
    "21. istitle()\n",
    "22. isupper()\n",
    "23. join()\n",
    "24. ljust()\n",
    "25. lower()\n",
    "26. lstrip()\n",
    "27. maketrans()\n",
    "28. partition()\n",
    "29. replace()\n",
    "30. rfind()\n",
    "31. rindex()\n",
    "32. rjust()\n",
    "33. rpartition()\n",
    "34. rsplit()\n",
    "35. rstrip()\n",
    "36. split()\n",
    "37. splitlines()\n",
    "38. startswith()\n",
    "39. strip()\n",
    "40. swapcase()\n",
    "41. title()\n",
    "42. translate()\n",
    "43. upper()\n",
    "44. zfill()"
   ]
  },
  {
   "cell_type": "markdown",
   "metadata": {},
   "source": [
    "## 1. capitalize()"
   ]
  },
  {
   "cell_type": "markdown",
   "metadata": {},
   "source": [
    "__Definition__: converts first character of a string to uppercase letter and lowercases all other characters.   \n",
    "\n",
    "__Syntax__:  \n",
    "    \n",
    "    string.capitalize()  \n",
    "    \n",
    "__Parameters__:  \n",
    "    - doesn't take any parameter  \n",
    "__Returns__:  \n",
    "    - returns a string with the first letter capitalized and all other characters lowercased  \n",
    "    - It doesn't modify the original string  "
   ]
  },
  {
   "cell_type": "code",
   "execution_count": 2,
   "metadata": {},
   "outputs": [
    {
     "name": "stdout",
     "output_type": "stream",
     "text": [
      "Old string:  python is NIce\n",
      "New string:  Python is nice\n"
     ]
    }
   ],
   "source": [
    "a_str = \"python is NIce\"\n",
    "new_str = a_str.capitalize()\n",
    "\n",
    "print('Old string: ', a_str)\n",
    "print('New string: ', new_str)"
   ]
  },
  {
   "cell_type": "code",
   "execution_count": 3,
   "metadata": {},
   "outputs": [
    {
     "name": "stdout",
     "output_type": "stream",
     "text": [
      "Old string:   python is NIce\n",
      "New string:   python is nice\n"
     ]
    }
   ],
   "source": [
    "a_str = \" python is NIce\"\n",
    "new_str = a_str.capitalize()\n",
    "\n",
    "print('Old string: ', a_str)\n",
    "print('New string: ', new_str)"
   ]
  },
  {
   "cell_type": "code",
   "execution_count": 4,
   "metadata": {},
   "outputs": [
    {
     "name": "stdout",
     "output_type": "stream",
     "text": [
      "Old string:  +python is NIce\n",
      "New string:  +python is nice\n"
     ]
    }
   ],
   "source": [
    "a_str = \"+python is NIce\"\n",
    "new_str = a_str.capitalize()\n",
    "\n",
    "print('Old string: ', a_str)\n",
    "print('New string: ', new_str)"
   ]
  },
  {
   "cell_type": "code",
   "execution_count": 5,
   "metadata": {},
   "outputs": [
    {
     "name": "stdout",
     "output_type": "stream",
     "text": [
      "Old string:  1pYthon is NIce\n",
      "New string:  1python is nice\n"
     ]
    }
   ],
   "source": [
    "a_str = \"1pYthon is NIce\"\n",
    "new_str = a_str.capitalize()\n",
    "\n",
    "print('Old string: ', a_str)\n",
    "print('New string: ', new_str)"
   ]
  },
  {
   "cell_type": "markdown",
   "metadata": {},
   "source": [
    "## 2. casefold()"
   ]
  },
  {
   "cell_type": "markdown",
   "metadata": {},
   "source": [
    "__Definition__: an aggressive lower() method which converts strings to case folded strings for caseless matching.   \n",
    "\n",
    "- removes all case distinctions present in a string.  \n",
    "- used for caseless matching, i.e. ignores cases when comparing.  \n",
    "\n",
    "__For example__:  \n",
    "the German lowercase letter ß is equivalent to ss.  \n",
    "ß is already lowercase.  \n",
    "lower() does nothing to it.  \n",
    "casefold() converts it to ss.  \n",
    "\n",
    "__Syntax__:  \n",
    "    \n",
    "    string.casefold()  \n",
    "    \n",
    "__Parameters__:  \n",
    "    - doesn't take any parameter  \n",
    "__Returns__:  \n",
    "    - the case folded string  "
   ]
  },
  {
   "cell_type": "code",
   "execution_count": 6,
   "metadata": {},
   "outputs": [
    {
     "name": "stdout",
     "output_type": "stream",
     "text": [
      "Lowercase string: python is awesome\n"
     ]
    }
   ],
   "source": [
    "string = \"PYTHON IS AWESOME\"\n",
    "\n",
    "# print lowercase string\n",
    "print(\"Lowercase string:\", string.casefold())"
   ]
  },
  {
   "cell_type": "code",
   "execution_count": 7,
   "metadata": {},
   "outputs": [
    {
     "name": "stdout",
     "output_type": "stream",
     "text": [
      "The strings are equal.\n"
     ]
    }
   ],
   "source": [
    "firstString = \"der Fluß\"\n",
    "secondString = \"der Fluss\"\n",
    "\n",
    "# ß is equivalent to ss\n",
    "if firstString.casefold() == secondString.casefold():\n",
    "    print('The strings are equal.')\n",
    "else:\n",
    "    print('The strings are not equal.')"
   ]
  },
  {
   "cell_type": "code",
   "execution_count": null,
   "metadata": {},
   "outputs": [],
   "source": []
  }
 ],
 "metadata": {
  "kernelspec": {
   "display_name": "Python 3",
   "language": "python",
   "name": "python3"
  },
  "language_info": {
   "codemirror_mode": {
    "name": "ipython",
    "version": 3
   },
   "file_extension": ".py",
   "mimetype": "text/x-python",
   "name": "python",
   "nbconvert_exporter": "python",
   "pygments_lexer": "ipython3",
   "version": "3.8.3"
  }
 },
 "nbformat": 4,
 "nbformat_minor": 4
}
